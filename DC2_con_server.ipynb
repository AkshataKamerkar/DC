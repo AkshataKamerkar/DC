{
 "cells": [
  {
   "cell_type": "code",
   "execution_count": null,
   "metadata": {},
   "outputs": [],
   "source": [
    "!pip install Pyro4"
   ]
  },
  {
   "cell_type": "code",
   "execution_count": null,
   "metadata": {},
   "outputs": [
    {
     "name": "stdout",
     "output_type": "stream",
     "text": [
      "Server URI: PYRO:obj_33429144fa9445c19b09e1275c2332ca@localhost:55926\n"
     ]
    }
   ],
   "source": [
    "import Pyro4  # Importing the Pyro4 library to enable remote communication between client and server\n",
    "\n",
    "@Pyro4.expose  # This decorator exposes the class and its methods to be accessed remotely by the client\n",
    "class StringConcatenator(object):\n",
    "    \n",
    "    # This method concatenates two strings and returns the result\n",
    "    def concatenate(self, str1, str2):\n",
    "        return str1 + str2  # Concatenate str1 and str2 and return the result\n",
    "\n",
    "def main():\n",
    "    daemon = Pyro4.Daemon()  # Create a Pyro daemon. The daemon is like a server that listens for incoming requests\n",
    "    uri = daemon.register(StringConcatenator)  # Register our StringConcatenator class with the daemon so it can be accessed remotely\n",
    "    \n",
    "    print(\"Server URI:\", uri)  # Print out the URI, which the client will need to connect to this server\n",
    "    \n",
    "    daemon.requestLoop()  # Start the daemon's event loop. This keeps the server running and waiting for requests from clients\n",
    "\n",
    "if __name__ == \"__main__\":  # Check if the script is being executed as the main program\n",
    "    main()  # Run the main function to start the server\n"
   ]
  }
 ],
 "metadata": {
  "kernelspec": {
   "display_name": "base",
   "language": "python",
   "name": "python3"
  },
  "language_info": {
   "codemirror_mode": {
    "name": "ipython",
    "version": 3
   },
   "file_extension": ".py",
   "mimetype": "text/x-python",
   "name": "python",
   "nbconvert_exporter": "python",
   "pygments_lexer": "ipython3",
   "version": "3.11.5"
  }
 },
 "nbformat": 4,
 "nbformat_minor": 2
}
