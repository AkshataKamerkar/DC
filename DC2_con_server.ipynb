{
 "cells": [
  {
   "cell_type": "code",
   "execution_count": 1,
   "metadata": {},
   "outputs": [
    {
     "name": "stdout",
     "output_type": "stream",
     "text": [
      "Requirement already satisfied: Pyro4 in c:\\users\\aksha\\anaconda3\\lib\\site-packages (4.82)\n",
      "Requirement already satisfied: serpent>=1.27 in c:\\users\\aksha\\anaconda3\\lib\\site-packages (from Pyro4) (1.41)\n"
     ]
    },
    {
     "name": "stderr",
     "output_type": "stream",
     "text": [
      "WARNING: Ignoring invalid distribution ~ensorflow-intel (C:\\Users\\aksha\\anaconda3\\Lib\\site-packages)\n",
      "WARNING: Ignoring invalid distribution ~ensorflow-intel (C:\\Users\\aksha\\anaconda3\\Lib\\site-packages)\n",
      "WARNING: Ignoring invalid distribution ~ensorflow-intel (C:\\Users\\aksha\\anaconda3\\Lib\\site-packages)\n",
      "\n",
      "[notice] A new release of pip is available: 24.3.1 -> 25.0.1\n",
      "[notice] To update, run: python.exe -m pip install --upgrade pip\n"
     ]
    }
   ],
   "source": [
    "!pip install Pyro4"
   ]
  },
  {
   "cell_type": "code",
   "execution_count": null,
   "metadata": {},
   "outputs": [
    {
     "name": "stdout",
     "output_type": "stream",
     "text": [
      "Server URI: PYRO:obj_33429144fa9445c19b09e1275c2332ca@localhost:55926\n"
     ]
    }
   ],
   "source": [
    "import Pyro4  # Importing the Pyro4 library to enable remote communication between client and server\n",
    "\n",
    "@Pyro4.expose  # This decorator exposes the class and its methods to be accessed remotely by the client\n",
    "class StringConcatenator(object):\n",
    "    \n",
    "    # This method concatenates two strings and returns the result\n",
    "    def concatenate(self, str1, str2):\n",
    "        return str1 + str2  # Concatenate str1 and str2 and return the result\n",
    "\n",
    "def main():\n",
    "    daemon = Pyro4.Daemon()  # Create a Pyro daemon. The daemon is like a server that listens for incoming requests\n",
    "    uri = daemon.register(StringConcatenator)  # Register our StringConcatenator class with the daemon so it can be accessed remotely\n",
    "    \n",
    "    print(\"Server URI:\", uri)  # Print out the URI, which the client will need to connect to this server\n",
    "    \n",
    "    daemon.requestLoop()  # Start the daemon's event loop. This keeps the server running and waiting for requests from clients\n",
    "\n",
    "if __name__ == \"__main__\":  # Check if the script is being executed as the main program\n",
    "    main()  # Run the main function to start the server\n"
   ]
  },
  {
   "cell_type": "markdown",
   "metadata": {},
   "source": [
    "### Simple Explanation:\n",
    "\n",
    "The code represents a **client-server architecture** where two Python programs (the server and the client) communicate over a network to perform a task. In this case, the task is concatenating two strings.\n",
    "\n",
    "#### **Server-side (server.ipynb):**\n",
    "\n",
    "1. **Pyro4 Library**:\n",
    "   - This is a library that allows objects to communicate with each other over a network. It's used to build distributed applications, so you can run functions on remote servers just like they are local to your system.\n",
    "\n",
    "2. **StringConcatenator Class**:\n",
    "   - The `StringConcatenator` class has one method: `concatenate(self, str1, str2)`. This method simply takes two strings, `str1` and `str2`, and returns their concatenation (`str1 + str2`).\n",
    "   \n",
    "3. **Pyro4.Daemon()**:\n",
    "   - The `Daemon` is like a server that listens for incoming requests. It accepts requests to call methods of remote objects, like `StringConcatenator`.\n",
    "   \n",
    "4. **uri**:\n",
    "   - The server registers the `StringConcatenator` class with the Pyro daemon. A **URI** (Uniform Resource Identifier) is generated that uniquely identifies this remote object on the network. The URI is printed out, so clients can use it to connect to the server.\n",
    "\n",
    "5. **daemon.requestLoop()**:\n",
    "   - This line starts a loop where the server waits for incoming client requests. It listens for any action (like calling a method) from clients.\n",
    "\n",
    "\n",
    "### **Theory Behind the Code (Client-Server Architecture and Remote Method Invocation)**:\n",
    "\n",
    "#### 1. **Client-Server Architecture**:\n",
    "   - The client-server model is a communication pattern where a **server** waits for requests from **clients**, processes those requests, and sends back results. \n",
    "   - In this case, the client sends a request to concatenate two strings, and the server performs the operation and returns the result.\n",
    "\n",
    "#### 2. **Remote Procedure Call (RPC)**:\n",
    "   - The communication between the client and the server involves the concept of a **Remote Procedure Call** (RPC). An RPC allows a program to execute a function on a different machine as if it were a local function. \n",
    "   - In this example, the client calls the `concatenate()` method on the server, but the execution of this function happens on the server, not on the client.\n",
    "\n",
    "#### 3. **Pyro4**:\n",
    "   - **Pyro4** (Python Remote Objects) is a library that facilitates RPC in Python. It allows objects to be shared across a network by **exposing** them through a daemon (the server side) and calling them from a **proxy** (the client side).\n",
    "   - The server exposes the method (`concatenate`) to be callable by the client. The client connects to the server using the server's URI, and it can call the server method like it is a local method.\n",
    "   \n",
    "#### 4. **Daemon and Proxy**:\n",
    "   - A **Pyro daemon** (server-side) listens for incoming requests and handles them.\n",
    "   - A **Pyro proxy** (client-side) acts as a local stand-in for the remote object and allows the client to interact with it.\n",
    "\n",
    "#### 5. **URI**:\n",
    "   - The **URI** is used to locate the remote object in a distributed environment. It's like an address that the client uses to reach the server object and make method calls.\n",
    "\n",
    "### In Summary:\n",
    "- The **server** contains a class (`StringConcatenator`) with a method to concatenate strings. It exposes this method using **Pyro4** and listens for incoming requests.\n",
    "- The **client** connects to the server by using the URI of the exposed object, calls the `concatenate` method with two strings, and receives the result. \n",
    "\n",
    "This architecture is an example of **distributed computing** where different components (client and server) work together over a network to perform operations."
   ]
  }
 ],
 "metadata": {
  "kernelspec": {
   "display_name": "base",
   "language": "python",
   "name": "python3"
  },
  "language_info": {
   "codemirror_mode": {
    "name": "ipython",
    "version": 3
   },
   "file_extension": ".py",
   "mimetype": "text/x-python",
   "name": "python",
   "nbconvert_exporter": "python",
   "pygments_lexer": "ipython3",
   "version": "3.11.5"
  }
 },
 "nbformat": 4,
 "nbformat_minor": 2
}
