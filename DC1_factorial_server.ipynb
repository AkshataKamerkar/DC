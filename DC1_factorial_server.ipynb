{
 "cells": [
  {
   "cell_type": "code",
   "execution_count": null,
   "id": "a84ff0e8",
   "metadata": {},
   "outputs": [
    {
     "name": "stdout",
     "output_type": "stream",
     "text": [
      "Factorial server is running on localhost:8000\n"
     ]
    },
    {
     "name": "stderr",
     "output_type": "stream",
     "text": [
      "127.0.0.1 - - [01/Mar/2025 19:19:13] \"POST /RPC2 HTTP/1.1\" 200 -\n",
      "127.0.0.1 - - [01/Mar/2025 19:19:17] \"POST /RPC2 HTTP/1.1\" 200 -\n"
     ]
    },
    {
     "name": "stdout",
     "output_type": "stream",
     "text": [
      "\n",
      "Received shutdown signal...\n",
      "\n",
      "Shutting down the server...\n"
     ]
    }
   ],
   "source": [
    "import xmlrpc.server\n",
    "import signal\n",
    "\n",
    "\n",
    "def factorial(n):\n",
    "    \"\"\"Compute factorial of n.\"\"\"\n",
    "    if n == 0:\n",
    "        return 1\n",
    "    else:\n",
    "        return n * factorial(n - 1)\n",
    "\n",
    "class FactorialServer(xmlrpc.server.SimpleXMLRPCServer):\n",
    "    def __init__(self, address):\n",
    "        super().__init__(address)\n",
    "        self.register_function(factorial, 'factorial')\n",
    "\n",
    "    def stop(self):\n",
    "        \"\"\"Gracefully stop the server.\"\"\"\n",
    "        print(\"\\nShutting down the server...\")\n",
    "        self.shutdown()\n",
    "\n",
    "def signal_handler(sig, frame):\n",
    "    \"\"\"Handle the interrupt signal (Ctrl+C) to stop the server.\"\"\"\n",
    "    print(\"\\nReceived shutdown signal...\")\n",
    "    server.stop()\n",
    "\n",
    "if __name__ == '__main__':\n",
    "    server_address = ('localhost', 8000)\n",
    "    server = FactorialServer(server_address)\n",
    "\n",
    "    # Set up the signal handler to catch Ctrl+C (SIGINT) and stop the server\n",
    "    signal.signal(signal.SIGINT, signal_handler)\n",
    "\n",
    "    print(f\"Factorial server is running on {server_address[0]}:{server_address[1]}\")\n",
    "\n",
    "    try:\n",
    "        # Start the server\n",
    "        server.serve_forever()\n",
    "    except KeyboardInterrupt:\n",
    "        # Handle the case where the server is stopped using Ctrl+C\n",
    "        print(\"\\nServer was manually stopped.\")\n",
    "        server.stop()\n"
   ]
  },
  {
   "cell_type": "code",
   "execution_count": null,
   "id": "4a03ed0b",
   "metadata": {},
   "outputs": [],
   "source": []
  }
 ],
 "metadata": {
  "kernelspec": {
   "display_name": "base",
   "language": "python",
   "name": "python3"
  },
  "language_info": {
   "codemirror_mode": {
    "name": "ipython",
    "version": 3
   },
   "file_extension": ".py",
   "mimetype": "text/x-python",
   "name": "python",
   "nbconvert_exporter": "python",
   "pygments_lexer": "ipython3",
   "version": "3.11.5"
  }
 },
 "nbformat": 4,
 "nbformat_minor": 5
}
