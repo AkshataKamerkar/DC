{
 "cells": [
  {
   "cell_type": "code",
   "execution_count": 1,
   "id": "fdd2e18f",
   "metadata": {},
   "outputs": [
    {
     "name": "stdout",
     "output_type": "stream",
     "text": [
      "Please enter a valid integer value.\n"
     ]
    }
   ],
   "source": [
    "import xmlrpc.client\n",
    "\n",
    "class FactorialClient:\n",
    "    def __init__(self, address):\n",
    "        self.proxy = xmlrpc.client.ServerProxy(address)\n",
    "\n",
    "    def calculate_factorial(self, n):\n",
    "        \"\"\"Request the server to calculate factorial of n.\"\"\"\n",
    "        try:\n",
    "            result = self.proxy.factorial(n)\n",
    "            return result\n",
    "        except Exception as e:\n",
    "            return f\"Error: {e}\"\n",
    "\n",
    "if __name__ == '__main__':\n",
    "    server_address = 'http://localhost:8000'\n",
    "    client = FactorialClient(server_address)\n",
    "    \n",
    "    while True:\n",
    "        try:\n",
    "            n = int(input(\"Enter an integer value (negative to exit): \"))\n",
    "            if n < 0:\n",
    "                break\n",
    "            result = client.calculate_factorial(n)\n",
    "            print(f\"Factorial of {n} is {result}\")\n",
    "        except ValueError:\n",
    "            print(\"Please enter a valid integer value.\")\n"
   ]
  },
  {
   "cell_type": "code",
   "execution_count": null,
   "id": "cfaa40ce",
   "metadata": {},
   "outputs": [],
   "source": []
  }
 ],
 "metadata": {
  "kernelspec": {
   "display_name": "Python 3",
   "language": "python",
   "name": "python3"
  },
  "language_info": {
   "codemirror_mode": {
    "name": "ipython",
    "version": 3
   },
   "file_extension": ".py",
   "mimetype": "text/x-python",
   "name": "python",
   "nbconvert_exporter": "python",
   "pygments_lexer": "ipython3",
   "version": "3.12.1"
  }
 },
 "nbformat": 4,
 "nbformat_minor": 5
}
