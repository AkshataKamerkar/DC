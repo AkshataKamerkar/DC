{
  "cells": [
    {
      "cell_type": "code",
      "execution_count": null,
      "metadata": {
        "id": "86wbFM6OsB2e"
      },
      "outputs": [],
      "source": [
        "import random\n",
        "\n",
        "# List of available servers\n",
        "servers = [\"Server1\", \"Server2\", \"Server3\"]\n",
        "\n",
        "# Round Robin Load Balancer\n",
        "class RoundRobinLoadBalancer:\n",
        "    def __init__(self, servers):\n",
        "        self.servers = servers\n",
        "        self.current_index = 0\n",
        "\n",
        "    def get_server(self):\n",
        "        server = self.servers[self.current_index]\n",
        "        self.current_index = (self.current_index + 1) % len(self.servers)\n",
        "        return server\n",
        "    \n",
        "\n",
        "# Random Load Balancer\n",
        "class RandomLoadBalancer:\n",
        "    def __init__(self, servers):\n",
        "        self.servers = servers\n",
        "\n",
        "    def get_server(self):\n",
        "        return random.choice(self.servers)\n",
        "    \n",
        "\n",
        "def simulate_requests(load_balancer, num_requests):\n",
        "    for i in range(1, num_requests + 1):\n",
        "        server = load_balancer.get_server()      # Gets a server from the load balancer\n",
        "        print(f\"Request {i} routed to {server}\")\n",
        "\n",
        "\n",
        "if __name__ == \"__main__\":\n",
        "    print(\"Round Robin Load Balancing:\")\n",
        "    round_robin_lb = RoundRobinLoadBalancer(servers)\n",
        "    simulate_requests(round_robin_lb, 10)\n",
        "\n",
        "    print(\"\\nRandom Load Balancing:\")\n",
        "    random_lb = RandomLoadBalancer(servers)\n",
        "    simulate_requests(random_lb, 10)"
      ]
    }
  ],
  "metadata": {
    "colab": {
      "provenance": []
    },
    "kernelspec": {
      "display_name": "Python 3",
      "name": "python3"
    },
    "language_info": {
      "name": "python"
    }
  },
  "nbformat": 4,
  "nbformat_minor": 0
}
