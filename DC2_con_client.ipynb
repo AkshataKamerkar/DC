{
 "cells": [
  {
   "cell_type": "code",
   "execution_count": 1,
   "metadata": {},
   "outputs": [
    {
     "name": "stdout",
     "output_type": "stream",
     "text": [
      "Collecting Pyro4\n",
      "  Downloading Pyro4-4.82-py2.py3-none-any.whl.metadata (2.2 kB)\n",
      "Collecting serpent>=1.27 (from Pyro4)\n",
      "  Downloading serpent-1.41-py3-none-any.whl.metadata (5.8 kB)\n",
      "Downloading Pyro4-4.82-py2.py3-none-any.whl (89 kB)\n",
      "Downloading serpent-1.41-py3-none-any.whl (9.6 kB)\n",
      "Installing collected packages: serpent, Pyro4\n",
      "Successfully installed Pyro4-4.82 serpent-1.41\n"
     ]
    },
    {
     "name": "stderr",
     "output_type": "stream",
     "text": [
      "WARNING: Ignoring invalid distribution ~ensorflow-intel (C:\\Users\\aksha\\anaconda3\\Lib\\site-packages)\n",
      "WARNING: Ignoring invalid distribution ~ensorflow-intel (C:\\Users\\aksha\\anaconda3\\Lib\\site-packages)\n",
      "WARNING: Ignoring invalid distribution ~ensorflow-intel (C:\\Users\\aksha\\anaconda3\\Lib\\site-packages)\n",
      "\n",
      "[notice] A new release of pip is available: 24.3.1 -> 25.0.1\n",
      "[notice] To update, run: python.exe -m pip install --upgrade pip\n"
     ]
    }
   ],
   "source": [
    "!pip install Pyro4"
   ]
  },
  {
   "cell_type": "code",
   "execution_count": null,
   "metadata": {},
   "outputs": [
    {
     "name": "stdout",
     "output_type": "stream",
     "text": [
      "Concatenated string: hellohumans\n"
     ]
    }
   ],
   "source": [
    "import Pyro4  # Import the Pyro4 library to communicate with the server\n",
    "\n",
    "def main():\n",
    "    # Get the URI (Uniform Resource Identifier) of the server object from the user\n",
    "    uri = input(\"Enter the URI of the server object: \").strip()\n",
    "    \n",
    "    # Connect to the server using the provided URI. Pyro4.Proxy creates a proxy object for the server\n",
    "    server = Pyro4.Proxy(uri)  # This proxy acts as if it's a local object, but the method calls are actually sent to the server\n",
    "    \n",
    "    # Get user input for the two strings to be concatenated\n",
    "    str1 = input(\"Enter the first string: \")\n",
    "    str2 = input(\"Enter the second string: \")\n",
    "    \n",
    "    # Call the 'concatenate' method on the remote server object, passing the two strings as arguments\n",
    "    concatenated_string = server.concatenate(str1, str2)\n",
    "    \n",
    "    # Print the concatenated result received from the server\n",
    "    print(\"Concatenated string:\", concatenated_string)\n",
    "\n",
    "if __name__ == \"__main__\":  # Check if the script is being executed as the main program\n",
    "    main()  # Run the main function to start the client\n"
   ]
  },
  {
   "cell_type": "markdown",
   "metadata": {},
   "source": [
    "#### **Client-side (client.ipynb):**\n",
    "\n",
    "1. **Get URI**:\n",
    "   - The client needs to know the URI (address) of the server object in order to communicate with it. This URI is entered manually by the user when the client runs.\n",
    "\n",
    "2. **Pyro4.Proxy(uri)**:\n",
    "   - The `Proxy` object allows the client to interact with the remote server object. The `uri` is used to establish this connection. The `server` object now acts like a local object, but the methods of `server` will actually run on the remote server.\n",
    "\n",
    "3. **User Input**:\n",
    "   - The client asks the user for two strings (`str1` and `str2`) that need to be concatenated.\n",
    "\n",
    "4. **Calling Remote Method**:\n",
    "   - The client then calls the `concatenate` method on the `server` object. The method is executed remotely on the server side, and it returns the concatenated string.\n",
    "\n",
    "5. **Display Result**:\n",
    "   - The concatenated string is displayed to the user.\n"
   ]
  }
 ],
 "metadata": {
  "kernelspec": {
   "display_name": "base",
   "language": "python",
   "name": "python3"
  },
  "language_info": {
   "codemirror_mode": {
    "name": "ipython",
    "version": 3
   },
   "file_extension": ".py",
   "mimetype": "text/x-python",
   "name": "python",
   "nbconvert_exporter": "python",
   "pygments_lexer": "ipython3",
   "version": "3.11.5"
  }
 },
 "nbformat": 4,
 "nbformat_minor": 2
}
