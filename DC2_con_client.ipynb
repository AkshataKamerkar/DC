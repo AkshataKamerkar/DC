{
 "cells": [
  {
   "cell_type": "code",
   "execution_count": null,
   "metadata": {},
   "outputs": [],
   "source": [
    "!pip install Pyro4"
   ]
  },
  {
   "cell_type": "code",
   "execution_count": null,
   "metadata": {},
   "outputs": [
    {
     "name": "stdout",
     "output_type": "stream",
     "text": [
      "Concatenated string: hellohumans\n"
     ]
    }
   ],
   "source": [
    "import Pyro4  # Import the Pyro4 library to communicate with the server\n",
    "\n",
    "def main():\n",
    "    # Get the URI (Uniform Resource Identifier) of the server object from the user\n",
    "    uri = input(\"Enter the URI of the server object: \").strip()\n",
    "    \n",
    "    # Connect to the server using the provided URI. Pyro4.Proxy creates a proxy object for the server\n",
    "    server = Pyro4.Proxy(uri)  # This proxy acts as if it's a local object, but the method calls are actually sent to the server\n",
    "    \n",
    "    # Get user input for the two strings to be concatenated\n",
    "    str1 = input(\"Enter the first string: \")\n",
    "    str2 = input(\"Enter the second string: \")\n",
    "    \n",
    "    # Call the 'concatenate' method on the remote server object, passing the two strings as arguments\n",
    "    concatenated_string = server.concatenate(str1, str2)\n",
    "    \n",
    "    # Print the concatenated result received from the server\n",
    "    print(\"Concatenated string:\", concatenated_string)\n",
    "\n",
    "if __name__ == \"__main__\":  # Check if the script is being executed as the main program\n",
    "    main()  # Run the main function to start the client\n"
   ]
  }
 ],
 "metadata": {
  "kernelspec": {
   "display_name": "base",
   "language": "python",
   "name": "python3"
  },
  "language_info": {
   "codemirror_mode": {
    "name": "ipython",
    "version": 3
   },
   "file_extension": ".py",
   "mimetype": "text/x-python",
   "name": "python",
   "nbconvert_exporter": "python",
   "pygments_lexer": "ipython3",
   "version": "3.11.5"
  }
 },
 "nbformat": 4,
 "nbformat_minor": 2
}
